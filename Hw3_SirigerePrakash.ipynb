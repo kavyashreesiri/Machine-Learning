{
 "cells": [
  {
   "cell_type": "code",
   "execution_count": 54,
   "metadata": {},
   "outputs": [],
   "source": [
    "#@author:Kavyashree Sirigere Prakash\n",
    "#Programming Homework 1\n"
   ]
  },
  {
   "cell_type": "code",
   "execution_count": 56,
   "metadata": {},
   "outputs": [],
   "source": [
    "#importing packages and dataset\n",
    "from sklearn.model_selection import train_test_split\n",
    "from sklearn.linear_model import LogisticRegression\n",
    "import numpy as np\n",
    "import matplotlib.pyplot as plt\n",
    "import pandas as pd\n",
    "from sklearn import datasets"
   ]
  },
  {
   "cell_type": "code",
   "execution_count": 57,
   "metadata": {},
   "outputs": [],
   "source": [
    "\"\"\"\n",
    "Sigmoid function is link function for Logistic Regression\n",
    "y=(1/1+e^-x)\n",
    "\"\"\"\n",
    "def sigmoid(inner_prod):\n",
    "    return 1 / (1 + np.exp(-inner_prod))"
   ]
  },
  {
   "cell_type": "markdown",
   "metadata": {},
   "source": [
    "## Calculating the Log-Likelihood\n",
    "$$\\begin{equation}\n",
    "ll = \\sum_{i=1}^{N}y_{i}\\ W ^{T}x_{i} - log(1+e^{\\ W^{T}x_{i}})\n",
    "\\end{equation}$$"
   ]
  },
  {
   "cell_type": "code",
   "execution_count": 58,
   "metadata": {},
   "outputs": [],
   "source": [
    "\"\"\"\n",
    "As log transformations are monotonic ,log lokelihood will not affect weight parameter estimation\n",
    "np.dot function gives dot product of features and weights vector\n",
    "inner_prod=[features]*[weights]\n",
    "Calculating w that maximizes log likelihood of cost function \n",
    "\n",
    "\"\"\"\n",
    "def log_likelihood(features, target, weights):\n",
    "    #calculates dot product of features and weights vector\n",
    "    inner_prod = np.dot(features, weights)\n",
    "    #calculating Log likelihood as shown in above equation\n",
    "    ll = np.sum( target*inner_prod - np.log(1 + np.exp(inner_prod)) )\n",
    "    return ll"
   ]
  },
  {
   "cell_type": "code",
   "execution_count": 59,
   "metadata": {},
   "outputs": [],
   "source": [
    "def logistic_regression(features, target, num_steps, learning_rate):\n",
    "        \n",
    "    weights = np.zeros(features.shape[1])\n",
    "    \n",
    "    for step in range(num_steps):\n",
    "        #calculates dot product of features and weights vector\n",
    "        inner_prod = np.dot(features, weights)\n",
    "        #calculating Probability using Sigmoid function\n",
    "        predictions = sigmoid(inner_prod)\n",
    "\n",
    "        # Calculate weights with gradient\n",
    "        output_error_signal = target - predictions\n",
    "        gradient = np.dot(features.T, output_error_signal)\n",
    "        weights += learning_rate * gradient\n",
    "        \n",
    "        # Print log-likelihood\n",
    "        if step % 10000 == 0:\n",
    "            print(log_likelihood(features, target, weights))    \n",
    "    return weights"
   ]
  },
  {
   "cell_type": "code",
   "execution_count": 64,
   "metadata": {},
   "outputs": [],
   "source": [
    "\"\"\"function that plots an ROC curve with input of a vector containing the true label and another vector containing the\n",
    "predicted probabilities of class membership for a set of examples\"\"\"\n",
    "def roc_curve_table(probability,target):\n",
    "    #Reading dependent/target variable and probability data\n",
    "    df=pd.DataFrame({'True class' :target,'probability': probability})\n",
    "    #sorting probability values in descending order\n",
    "    df=df.sort_values('probability',ascending=False)\n",
    "    #reading unique probability values to a list of threshold values\n",
    "    threshold= df.probability.unique().tolist()\n",
    "    #initializing True positive,False positive,False negative and true negative arrays to calculate FPR and TPR\n",
    "    tp=[]\n",
    "    fp=[]\n",
    "    fn=[]\n",
    "    tn=[]\n",
    "    \n",
    "    for i in threshold:\n",
    "        #counting True positive cases for respective threshold\n",
    "        tp.append(np.in1d(df.loc[lambda df:df.probability>= i, :],1).sum())\n",
    "        #counting False positive cases for respective threshold\n",
    "        fp.append(np.in1d(df.loc[lambda df:df.probability>= i, :],0).sum())\n",
    "        #counting True negative cases for respective threshold\n",
    "        tn.append(np.in1d(df.loc[lambda df:df.probability< i, :],0).sum())\n",
    "        #counting False negative cases for respective threshold\n",
    "        fn.append(np.in1d(df.loc[lambda df:df.probability> i, :],1).sum())\n",
    "    #storing these arrays with respective labels    \n",
    "    roc=pd.DataFrame({'threshold' :threshold,'tp': tp,'tn': tn,'fp': fp,'fn': fn})\n",
    "    #print(roc.head(2))\n",
    "    #calculate True positive rate\n",
    "    roc['tpr']= roc['tp']/(roc['tp']+roc['fn'])\n",
    "    #calculate False positive rate\n",
    "    roc['fpr']= roc['fp']/(roc['fp']+roc['tn'])\n",
    "    return roc\n",
    "\n",
    "def roc_draw(roc):\n",
    "    plt.title(\"ROC curve\")\n",
    "    #Plotting ROC curve with TPR on Y-axis and FPR on X-axis with blue color\n",
    "    plt.plot(roc.fpr,roc.tpr,'b')\n",
    "    #Create line plot with red dashed line \n",
    "    plt.plot([0,1],[0,1],'r--')\n",
    "    #X-axis scale limit\n",
    "    plt.xlim([0,1])\n",
    "    #Y-axis scale limit\n",
    "    plt.ylim([0,1])\n",
    "    #label for Y-axis scale \n",
    "    plt.ylabel('True Positive Rate')\n",
    "    #label for X-axis scale \n",
    "    plt.xlabel('False Positive Rate')\n",
    "    #show the graph\n",
    "    plt.show()\n",
    "    return"
   ]
  },
  {
   "cell_type": "code",
   "execution_count": 65,
   "metadata": {},
   "outputs": [
    {
     "name": "stdout",
     "output_type": "stream",
     "text": [
      "-670448.6218756185\n"
     ]
    },
    {
     "name": "stderr",
     "output_type": "stream",
     "text": [
      "/Users/kavyashreesp/anaconda3/lib/python3.6/site-packages/ipykernel_launcher.py:6: RuntimeWarning: overflow encountered in exp\n",
      "  \n",
      "/Users/kavyashreesp/anaconda3/lib/python3.6/site-packages/ipykernel_launcher.py:7: RuntimeWarning: overflow encountered in exp\n",
      "  import sys\n"
     ]
    },
    {
     "name": "stdout",
     "output_type": "stream",
     "text": [
      "-inf\n",
      "Weights w is \n",
      ": [ 3.69851780e+01 -2.14557256e+01  1.37120843e+02  1.07029537e+01\n",
      " -3.29732474e-01 -2.53608885e+00 -3.86794636e+00 -1.56739129e+00\n",
      " -4.32331941e-01 -4.29643896e-02  7.55844177e-01  4.73258169e-02\n",
      " -9.39014142e+00 -2.10128811e+01 -7.45912717e-02 -5.91190295e-01\n",
      " -8.68134180e-01 -2.12237124e-01 -1.94991974e-01 -4.89256326e-02\n",
      "  3.76786787e+01 -6.44999953e+01  6.29609761e+01 -3.23499568e+01\n",
      " -7.97230564e-01 -8.27109816e+00 -1.05417556e+01 -2.86615267e+00\n",
      " -2.21984796e+00 -6.38100012e-01]\n",
      "    fn  fp     threshold   tn   tp\n",
      "0    0   4  1.000000e+00  136  214\n",
      "1  214   4  3.447337e-63  136  215\n",
      "ROC table is\n",
      "     fn   fp      threshold   tn   tp       tpr       fpr\n",
      "0    0    4   1.000000e+00  136  214  1.000000  0.028571\n",
      "1  214    4   3.447337e-63  136  215  0.501166  0.028571\n",
      "2  215    5   3.166024e-83  135  215  0.500000  0.035714\n",
      "3  215    5   3.184678e-95  135  216  0.501160  0.035714\n",
      "4  216    5  2.639061e-103  135  217  0.501155  0.035714\n",
      "5  217    5  1.433394e-158  135  218  0.501149  0.035714\n",
      "6  218    5  9.308123e-166  135  219  0.501144  0.035714\n",
      "7  219    6  1.095620e-237  134  219  0.500000  0.042857\n",
      "8  219  140   0.000000e+00    0  229  0.511161  1.000000\n"
     ]
    },
    {
     "data": {
      "image/png": "[encoded data removed]",
      "text/plain": [
       "<matplotlib.figure.Figure at 0x10d67c1d0>"
      ]
     },
     "metadata": {},
     "output_type": "display_data"
    }
   ],
   "source": [
    "\"\"\" Apply your logistic regression classifier to the breast cancer Wisconsin dataset, which can either be loaded with python by following instructions.\n",
    "Randomly splitting the data into two subsets with one having 2/3 of the examples and the other\n",
    "one having the rest 1/3. Use the 2/3 subset to train a logistic regression model and the 1/3 subset\n",
    "to test the model. Plot the ROC curve on the testing set with your ROC plotting function. \"\"\"\n",
    "#loading the data\n",
    "dataset=datasets.load_breast_cancer()\n",
    "#reading feature /independent variables\n",
    "X=dataset.data\n",
    "#reading dependent variable/target variable\n",
    "y=dataset.target\n",
    "#splitting data into test and training data set \n",
    "#testing dataset size=0.33\n",
    "#training dataset size=0.66(remaining data)\n",
    "X_train, X_test, y_train, y_test = train_test_split(X, y, test_size=0.33,random_state=45)\n",
    "#calculating weights for training dataset\n",
    "weights=logistic_regression(X_train, y_train, 20000, 10e-5)\n",
    "\n",
    "print('Weights w is \\n:',weights)\n",
    "#Calculating probability using sigmoid function\n",
    "p=sigmoid(np.dot(X_test,weights))\n",
    "#Calculating ROC table with probability and target variable testing data\n",
    "roc=roc_curve_table(p,y_test)\n",
    "print('ROC table is\\n',roc)\n",
    "#plotting ROC curve\n",
    "roc_draw(roc)"
   ]
  },
  {
   "cell_type": "markdown",
   "metadata": {},
   "source": [
    "References:\n",
    "https://machinelearningmastery.com/logistic-regression-tutorial-for-machine-learning/\n",
    "https://ml-cheatsheet.readthedocs.io/en/latest/logistic_regression.html\n",
    "http://www.holehouse.org/mlclass/06_Logistic_Regression.html\n"
   ]
  }
 ],
 "metadata": {
  "kernelspec": {
   "display_name": "Python 3",
   "language": "python",
   "name": "python3"
  },
  "language_info": {
   "codemirror_mode": {
    "name": "ipython",
    "version": 3
   },
   "file_extension": ".py",
   "mimetype": "text/x-python",
   "name": "python",
   "nbconvert_exporter": "python",
   "pygments_lexer": "ipython3",
   "version": "3.6.4"
  }
 },
 "nbformat": 4,
 "nbformat_minor": 2
}
